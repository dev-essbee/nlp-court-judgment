{
 "cells": [
  {
   "cell_type": "code",
   "execution_count": 5,
   "metadata": {},
   "outputs": [
    {
     "name": "stdout",
     "output_type": "stream",
     "text": [
      "INFO: Pandarallel will run on 8 workers.\n",
      "INFO: Pandarallel will use Memory file system to transfer data between the main process and workers.\n"
     ]
    }
   ],
   "source": [
    "import pandas as pd\n",
    "import re\n",
    "import spacy\n",
    "from pandarallel import pandarallel\n",
    "\n",
    "pandarallel.initialize(progress_bar=True)"
   ]
  },
  {
   "cell_type": "code",
   "execution_count": 6,
   "metadata": {},
   "outputs": [],
   "source": [
    "df = pd.read_csv(r\"../data/cases.csv\")"
   ]
  },
  {
   "cell_type": "markdown",
   "metadata": {},
   "source": [
    "### Clasify Cases"
   ]
  },
  {
   "cell_type": "code",
   "execution_count": 9,
   "metadata": {},
   "outputs": [],
   "source": [
    "criminal_cases = df[\"text\"].str.contains(r\"CRIMINAL\")\n",
    "civil_cases = df[\"text\"].str.contains(r\"CIVIL\")\n",
    "df[\"civil\"] = civil_cases & ~(civil_cases & criminal_cases)\n",
    "df[\"criminal\"] = criminal_cases & ~(civil_cases & criminal_cases)\n",
    "# there are cases possible which are civil as well as criminal which can be handled using civil_cases & criminal_cases count=69\n",
    "df[\"not-defined\"] = ~(civil_cases | criminal_cases)"
   ]
  },
  {
   "cell_type": "code",
   "execution_count": 4,
   "metadata": {},
   "outputs": [],
   "source": [
    "# 4 types possible:\n",
    "# civil\n",
    "# criminal\n",
    "# civil and criminal\n",
    "# not defined"
   ]
  },
  {
   "cell_type": "code",
   "execution_count": 158,
   "metadata": {},
   "outputs": [],
   "source": []
  },
  {
   "cell_type": "markdown",
   "metadata": {},
   "source": [
    "### Clean Text"
   ]
  },
  {
   "cell_type": "code",
   "execution_count": 8,
   "metadata": {},
   "outputs": [
    {
     "data": {
      "text/plain": [
       "(25100, 6)"
      ]
     },
     "execution_count": 8,
     "metadata": {},
     "output_type": "execute_result"
    }
   ],
   "source": [
    "df.shape"
   ]
  },
  {
   "cell_type": "code",
   "execution_count": 5,
   "metadata": {},
   "outputs": [],
   "source": [
    "# remove empty and non english rows\n",
    "# eng = df[\"text\"].str.contains(re.compile(r\"a\"))\n",
    "# df = df[eng]"
   ]
  },
  {
   "cell_type": "code",
   "execution_count": 6,
   "metadata": {},
   "outputs": [
    {
     "data": {
      "text/html": [
       "<div>\n",
       "<style scoped>\n",
       "    .dataframe tbody tr th:only-of-type {\n",
       "        vertical-align: middle;\n",
       "    }\n",
       "\n",
       "    .dataframe tbody tr th {\n",
       "        vertical-align: top;\n",
       "    }\n",
       "\n",
       "    .dataframe thead th {\n",
       "        text-align: right;\n",
       "    }\n",
       "</style>\n",
       "<table border=\"1\" class=\"dataframe\">\n",
       "  <thead>\n",
       "    <tr style=\"text-align: right;\">\n",
       "      <th></th>\n",
       "      <th>file-name</th>\n",
       "      <th>text</th>\n",
       "      <th>tag</th>\n",
       "    </tr>\n",
       "  </thead>\n",
       "  <tbody>\n",
       "    <tr>\n",
       "      <th>0</th>\n",
       "      <td>37482.txt</td>\n",
       "      <td>CRL.A. No..2325of 2009 @ SLP(CRL.) No. 7359 of...</td>\n",
       "      <td>NaN</td>\n",
       "    </tr>\n",
       "    <tr>\n",
       "      <th>1</th>\n",
       "      <td>35177_2015_Judgement_08-Dec-2017.txt</td>\n",
       "      <td>...</td>\n",
       "      <td>NaN</td>\n",
       "    </tr>\n",
       "    <tr>\n",
       "      <th>2</th>\n",
       "      <td>40216.txt</td>\n",
       "      <td>...</td>\n",
       "      <td>NaN</td>\n",
       "    </tr>\n",
       "    <tr>\n",
       "      <th>3</th>\n",
       "      <td>30829.txt</td>\n",
       "      <td>http://JUDIS.NIC.IN                SUPREME COU...</td>\n",
       "      <td>NaN</td>\n",
       "    </tr>\n",
       "    <tr>\n",
       "      <th>4</th>\n",
       "      <td>14590.txt</td>\n",
       "      <td>http://JUDIS.NIC.IN                  SUPREME C...</td>\n",
       "      <td>NaN</td>\n",
       "    </tr>\n",
       "  </tbody>\n",
       "</table>\n",
       "</div>"
      ],
      "text/plain": [
       "                              file-name  \\\n",
       "0                             37482.txt   \n",
       "1  35177_2015_Judgement_08-Dec-2017.txt   \n",
       "2                             40216.txt   \n",
       "3                             30829.txt   \n",
       "4                             14590.txt   \n",
       "\n",
       "                                                text  tag  \n",
       "0  CRL.A. No..2325of 2009 @ SLP(CRL.) No. 7359 of...  NaN  \n",
       "1                                                ...  NaN  \n",
       "2                                                ...  NaN  \n",
       "3  http://JUDIS.NIC.IN                SUPREME COU...  NaN  \n",
       "4  http://JUDIS.NIC.IN                  SUPREME C...  NaN  "
      ]
     },
     "execution_count": 6,
     "metadata": {},
     "output_type": "execute_result"
    }
   ],
   "source": [
    "df.head()"
   ]
  },
  {
   "cell_type": "code",
   "execution_count": 9,
   "metadata": {},
   "outputs": [],
   "source": [
    "def clean_text(row):\n",
    "    text = re.sub(r\"\\.\", \"\", row[\"text\"])\n",
    "    return re.sub(r\"\\s+\", \" \", text).replace(\".\", \"\").strip()"
   ]
  },
  {
   "cell_type": "code",
   "execution_count": 10,
   "metadata": {},
   "outputs": [
    {
     "data": {
      "application/vnd.jupyter.widget-view+json": {
       "model_id": "5682ad7bcb7d446795997642ed1acbc4",
       "version_major": 2,
       "version_minor": 0
      },
      "text/plain": [
       "VBox(children=(HBox(children=(IntProgress(value=0, description='0.00%', max=3138), Label(value='0 / 3138'))), …"
      ]
     },
     "metadata": {},
     "output_type": "display_data"
    },
    {
     "name": "stdout",
     "output_type": "stream",
     "text": [
      "CPU times: user 2.61 s, sys: 1.77 s, total: 4.38 s\n",
      "Wall time: 14.9 s\n"
     ]
    }
   ],
   "source": [
    "# %time df['text']=df.parallel_apply(clean_text,axis=1)"
   ]
  },
  {
   "cell_type": "code",
   "execution_count": 11,
   "metadata": {},
   "outputs": [
    {
     "data": {
      "text/html": [
       "<div>\n",
       "<style scoped>\n",
       "    .dataframe tbody tr th:only-of-type {\n",
       "        vertical-align: middle;\n",
       "    }\n",
       "\n",
       "    .dataframe tbody tr th {\n",
       "        vertical-align: top;\n",
       "    }\n",
       "\n",
       "    .dataframe thead th {\n",
       "        text-align: right;\n",
       "    }\n",
       "</style>\n",
       "<table border=\"1\" class=\"dataframe\">\n",
       "  <thead>\n",
       "    <tr style=\"text-align: right;\">\n",
       "      <th></th>\n",
       "      <th>file-name</th>\n",
       "      <th>text</th>\n",
       "      <th>tag</th>\n",
       "      <th>civil</th>\n",
       "      <th>criminal</th>\n",
       "      <th>not-defined</th>\n",
       "    </tr>\n",
       "  </thead>\n",
       "  <tbody>\n",
       "    <tr>\n",
       "      <th>0</th>\n",
       "      <td>37482.txt</td>\n",
       "      <td>CRLA No2325of 2009 @ SLP(CRL) No 7359 of 2009 ...</td>\n",
       "      <td>NaN</td>\n",
       "      <td>False</td>\n",
       "      <td>True</td>\n",
       "      <td>False</td>\n",
       "    </tr>\n",
       "    <tr>\n",
       "      <th>1</th>\n",
       "      <td>35177_2015_Judgement_08-Dec-2017.txt</td>\n",
       "      <td>NON-REPORTABLE IN THE SUPREME COURT OF INDIA C...</td>\n",
       "      <td>NaN</td>\n",
       "      <td>True</td>\n",
       "      <td>False</td>\n",
       "      <td>False</td>\n",
       "    </tr>\n",
       "    <tr>\n",
       "      <th>2</th>\n",
       "      <td>40216.txt</td>\n",
       "      <td>NON-REPORTABLE IN THE SUPREME COURT OF INDIA C...</td>\n",
       "      <td>NaN</td>\n",
       "      <td>True</td>\n",
       "      <td>False</td>\n",
       "      <td>False</td>\n",
       "    </tr>\n",
       "    <tr>\n",
       "      <th>3</th>\n",
       "      <td>30829.txt</td>\n",
       "      <td>http://JUDISNICIN SUPREME COURT OF INDIA Page ...</td>\n",
       "      <td>NaN</td>\n",
       "      <td>True</td>\n",
       "      <td>False</td>\n",
       "      <td>False</td>\n",
       "    </tr>\n",
       "    <tr>\n",
       "      <th>4</th>\n",
       "      <td>14590.txt</td>\n",
       "      <td>http://JUDISNICIN SUPREME COURT OF INDIA Page ...</td>\n",
       "      <td>NaN</td>\n",
       "      <td>False</td>\n",
       "      <td>False</td>\n",
       "      <td>True</td>\n",
       "    </tr>\n",
       "  </tbody>\n",
       "</table>\n",
       "</div>"
      ],
      "text/plain": [
       "                              file-name  \\\n",
       "0                             37482.txt   \n",
       "1  35177_2015_Judgement_08-Dec-2017.txt   \n",
       "2                             40216.txt   \n",
       "3                             30829.txt   \n",
       "4                             14590.txt   \n",
       "\n",
       "                                                text  tag  civil  criminal  \\\n",
       "0  CRLA No2325of 2009 @ SLP(CRL) No 7359 of 2009 ...  NaN  False      True   \n",
       "1  NON-REPORTABLE IN THE SUPREME COURT OF INDIA C...  NaN   True     False   \n",
       "2  NON-REPORTABLE IN THE SUPREME COURT OF INDIA C...  NaN   True     False   \n",
       "3  http://JUDISNICIN SUPREME COURT OF INDIA Page ...  NaN   True     False   \n",
       "4  http://JUDISNICIN SUPREME COURT OF INDIA Page ...  NaN  False     False   \n",
       "\n",
       "   not-defined  \n",
       "0        False  \n",
       "1        False  \n",
       "2        False  \n",
       "3        False  \n",
       "4         True  "
      ]
     },
     "execution_count": 11,
     "metadata": {},
     "output_type": "execute_result"
    }
   ],
   "source": [
    "df.head()"
   ]
  },
  {
   "cell_type": "code",
   "execution_count": 10,
   "metadata": {},
   "outputs": [],
   "source": [
    "df.to_csv(r\"../data/cases-tagging-raw.csv\", index=False)"
   ]
  },
  {
   "cell_type": "code",
   "execution_count": null,
   "metadata": {},
   "outputs": [],
   "source": []
  }
 ],
 "metadata": {
  "kernelspec": {
   "display_name": "Python [conda env:nlp]",
   "language": "python",
   "name": "conda-env-nlp-py"
  },
  "language_info": {
   "codemirror_mode": {
    "name": "ipython",
    "version": 3
   },
   "file_extension": ".py",
   "mimetype": "text/x-python",
   "name": "python",
   "nbconvert_exporter": "python",
   "pygments_lexer": "ipython3",
   "version": "3.7.6"
  },
  "widgets": {
   "application/vnd.jupyter.widget-state+json": {
    "state": {},
    "version_major": 2,
    "version_minor": 0
   }
  }
 },
 "nbformat": 4,
 "nbformat_minor": 4
}
