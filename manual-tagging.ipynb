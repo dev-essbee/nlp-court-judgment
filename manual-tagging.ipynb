{
 "cells": [
  {
   "cell_type": "code",
   "execution_count": 1,
   "metadata": {},
   "outputs": [
    {
     "name": "stdout",
     "output_type": "stream",
     "text": [
      "INFO: Pandarallel will run on 8 workers.\n",
      "INFO: Pandarallel will use Memory file system to transfer data between the main process and workers.\n"
     ]
    }
   ],
   "source": [
    "import pandas as pd\n",
    "import re\n",
    "import spacy\n",
    "from pandarallel import pandarallel\n",
    "from spacy.matcher import Matcher\n",
    "import numpy as np\n",
    "import pickle\n",
    "import random\n",
    "\n",
    "pandarallel.initialize(progress_bar=True)\n",
    "nlp = spacy.load(\"en_core_web_sm\")"
   ]
  },
  {
   "cell_type": "code",
   "execution_count": 2,
   "metadata": {},
   "outputs": [],
   "source": [
    "df_all = pd.read_csv(r\"../data/cases-tagging-raw.csv\")"
   ]
  },
  {
   "cell_type": "code",
   "execution_count": 3,
   "metadata": {},
   "outputs": [],
   "source": [
    "df_civil = (\n",
    "    df_all[df_all[\"civil\"]]\n",
    "    .drop([\"civil\", \"criminal\", \"not-defined\"], axis=1)\n",
    "    .reset_index(drop=True)\n",
    ")"
   ]
  },
  {
   "cell_type": "code",
   "execution_count": 4,
   "metadata": {},
   "outputs": [],
   "source": [
    "df_criminal = (\n",
    "    df_all[df_all[\"criminal\"]]\n",
    "    .drop([\"civil\", \"criminal\", \"not-defined\"], axis=1)\n",
    "    .reset_index(drop=True)\n",
    ")"
   ]
  },
  {
   "cell_type": "code",
   "execution_count": 5,
   "metadata": {},
   "outputs": [
    {
     "data": {
      "text/html": [
       "<div>\n",
       "<style scoped>\n",
       "    .dataframe tbody tr th:only-of-type {\n",
       "        vertical-align: middle;\n",
       "    }\n",
       "\n",
       "    .dataframe tbody tr th {\n",
       "        vertical-align: top;\n",
       "    }\n",
       "\n",
       "    .dataframe thead th {\n",
       "        text-align: right;\n",
       "    }\n",
       "</style>\n",
       "<table border=\"1\" class=\"dataframe\">\n",
       "  <thead>\n",
       "    <tr style=\"text-align: right;\">\n",
       "      <th></th>\n",
       "      <th>file-name</th>\n",
       "      <th>text</th>\n",
       "      <th>tag</th>\n",
       "    </tr>\n",
       "  </thead>\n",
       "  <tbody>\n",
       "    <tr>\n",
       "      <th>0</th>\n",
       "      <td>35177_2015_Judgement_08-Dec-2017.txt</td>\n",
       "      <td>...</td>\n",
       "      <td>NaN</td>\n",
       "    </tr>\n",
       "    <tr>\n",
       "      <th>1</th>\n",
       "      <td>40216.txt</td>\n",
       "      <td>...</td>\n",
       "      <td>NaN</td>\n",
       "    </tr>\n",
       "    <tr>\n",
       "      <th>2</th>\n",
       "      <td>30829.txt</td>\n",
       "      <td>http://JUDIS.NIC.IN                SUPREME COU...</td>\n",
       "      <td>NaN</td>\n",
       "    </tr>\n",
       "    <tr>\n",
       "      <th>3</th>\n",
       "      <td>33421.txt</td>\n",
       "      <td>...</td>\n",
       "      <td>NaN</td>\n",
       "    </tr>\n",
       "    <tr>\n",
       "      <th>4</th>\n",
       "      <td>43039.txt</td>\n",
       "      <td>...</td>\n",
       "      <td>NaN</td>\n",
       "    </tr>\n",
       "    <tr>\n",
       "      <th>...</th>\n",
       "      <td>...</td>\n",
       "      <td>...</td>\n",
       "      <td>...</td>\n",
       "    </tr>\n",
       "    <tr>\n",
       "      <th>11295</th>\n",
       "      <td>37715.txt</td>\n",
       "      <td>1\\n\\n     ...</td>\n",
       "      <td>NaN</td>\n",
       "    </tr>\n",
       "    <tr>\n",
       "      <th>11296</th>\n",
       "      <td>31352.txt</td>\n",
       "      <td>http://JUDIS.NIC.IN                SUPREME COU...</td>\n",
       "      <td>NaN</td>\n",
       "    </tr>\n",
       "    <tr>\n",
       "      <th>11297</th>\n",
       "      <td>35009.txt</td>\n",
       "      <td>1\\n\\n    ...</td>\n",
       "      <td>NaN</td>\n",
       "    </tr>\n",
       "    <tr>\n",
       "      <th>11298</th>\n",
       "      <td>33757.txt</td>\n",
       "      <td>1\\n\\n   ...</td>\n",
       "      <td>NaN</td>\n",
       "    </tr>\n",
       "    <tr>\n",
       "      <th>11299</th>\n",
       "      <td>47018_2018_Judgement_06-Mar-2019.txt</td>\n",
       "      <td>...</td>\n",
       "      <td>NaN</td>\n",
       "    </tr>\n",
       "  </tbody>\n",
       "</table>\n",
       "<p>11300 rows × 3 columns</p>\n",
       "</div>"
      ],
      "text/plain": [
       "                                  file-name  \\\n",
       "0      35177_2015_Judgement_08-Dec-2017.txt   \n",
       "1                                 40216.txt   \n",
       "2                                 30829.txt   \n",
       "3                                 33421.txt   \n",
       "4                                 43039.txt   \n",
       "...                                     ...   \n",
       "11295                             37715.txt   \n",
       "11296                             31352.txt   \n",
       "11297                             35009.txt   \n",
       "11298                             33757.txt   \n",
       "11299  47018_2018_Judgement_06-Mar-2019.txt   \n",
       "\n",
       "                                                    text  tag  \n",
       "0                                                    ...  NaN  \n",
       "1                                                    ...  NaN  \n",
       "2      http://JUDIS.NIC.IN                SUPREME COU...  NaN  \n",
       "3                                                    ...  NaN  \n",
       "4                                                    ...  NaN  \n",
       "...                                                  ...  ...  \n",
       "11295                                      1\\n\\n     ...  NaN  \n",
       "11296  http://JUDIS.NIC.IN                SUPREME COU...  NaN  \n",
       "11297                                       1\\n\\n    ...  NaN  \n",
       "11298                                        1\\n\\n   ...  NaN  \n",
       "11299                                                ...  NaN  \n",
       "\n",
       "[11300 rows x 3 columns]"
      ]
     },
     "execution_count": 5,
     "metadata": {},
     "output_type": "execute_result"
    }
   ],
   "source": [
    "df_civil"
   ]
  },
  {
   "cell_type": "code",
   "execution_count": 6,
   "metadata": {},
   "outputs": [
    {
     "data": {
      "text/html": [
       "<div>\n",
       "<style scoped>\n",
       "    .dataframe tbody tr th:only-of-type {\n",
       "        vertical-align: middle;\n",
       "    }\n",
       "\n",
       "    .dataframe tbody tr th {\n",
       "        vertical-align: top;\n",
       "    }\n",
       "\n",
       "    .dataframe thead th {\n",
       "        text-align: right;\n",
       "    }\n",
       "</style>\n",
       "<table border=\"1\" class=\"dataframe\">\n",
       "  <thead>\n",
       "    <tr style=\"text-align: right;\">\n",
       "      <th></th>\n",
       "      <th>file-name</th>\n",
       "      <th>text</th>\n",
       "      <th>tag</th>\n",
       "    </tr>\n",
       "  </thead>\n",
       "  <tbody>\n",
       "    <tr>\n",
       "      <th>0</th>\n",
       "      <td>37482.txt</td>\n",
       "      <td>CRL.A. No..2325of 2009 @ SLP(CRL.) No. 7359 of...</td>\n",
       "      <td>NaN</td>\n",
       "    </tr>\n",
       "    <tr>\n",
       "      <th>1</th>\n",
       "      <td>39583.txt</td>\n",
       "      <td>...</td>\n",
       "      <td>NaN</td>\n",
       "    </tr>\n",
       "    <tr>\n",
       "      <th>2</th>\n",
       "      <td>37865.txt</td>\n",
       "      <td>...</td>\n",
       "      <td>NaN</td>\n",
       "    </tr>\n",
       "    <tr>\n",
       "      <th>3</th>\n",
       "      <td>30932.txt</td>\n",
       "      <td>http://JUDIS.NIC.IN                SUPREME COU...</td>\n",
       "      <td>NaN</td>\n",
       "    </tr>\n",
       "    <tr>\n",
       "      <th>4</th>\n",
       "      <td>43935.txt</td>\n",
       "      <td>1\\n\\n           ...</td>\n",
       "      <td>NaN</td>\n",
       "    </tr>\n",
       "    <tr>\n",
       "      <th>...</th>\n",
       "      <td>...</td>\n",
       "      <td>...</td>\n",
       "      <td>...</td>\n",
       "    </tr>\n",
       "    <tr>\n",
       "      <th>4521</th>\n",
       "      <td>34974.txt</td>\n",
       "      <td>...</td>\n",
       "      <td>NaN</td>\n",
       "    </tr>\n",
       "    <tr>\n",
       "      <th>4522</th>\n",
       "      <td>40710.txt</td>\n",
       "      <td>1\\n\\n           ...</td>\n",
       "      <td>NaN</td>\n",
       "    </tr>\n",
       "    <tr>\n",
       "      <th>4523</th>\n",
       "      <td>29948.txt</td>\n",
       "      <td>http://JUDIS.NIC.IN                   SUPREME ...</td>\n",
       "      <td>NaN</td>\n",
       "    </tr>\n",
       "    <tr>\n",
       "      <th>4524</th>\n",
       "      <td>41916.txt</td>\n",
       "      <td>REPORTAB...</td>\n",
       "      <td>NaN</td>\n",
       "    </tr>\n",
       "    <tr>\n",
       "      <th>4525</th>\n",
       "      <td>32274.txt</td>\n",
       "      <td>R...</td>\n",
       "      <td>NaN</td>\n",
       "    </tr>\n",
       "  </tbody>\n",
       "</table>\n",
       "<p>4526 rows × 3 columns</p>\n",
       "</div>"
      ],
      "text/plain": [
       "      file-name                                               text  tag\n",
       "0     37482.txt  CRL.A. No..2325of 2009 @ SLP(CRL.) No. 7359 of...  NaN\n",
       "1     39583.txt                                                ...  NaN\n",
       "2     37865.txt                                                ...  NaN\n",
       "3     30932.txt  http://JUDIS.NIC.IN                SUPREME COU...  NaN\n",
       "4     43935.txt                                1\\n\\n           ...  NaN\n",
       "...         ...                                                ...  ...\n",
       "4521  34974.txt                                                ...  NaN\n",
       "4522  40710.txt                                1\\n\\n           ...  NaN\n",
       "4523  29948.txt  http://JUDIS.NIC.IN                   SUPREME ...  NaN\n",
       "4524  41916.txt                                        REPORTAB...  NaN\n",
       "4525  32274.txt                                               R...  NaN\n",
       "\n",
       "[4526 rows x 3 columns]"
      ]
     },
     "execution_count": 6,
     "metadata": {},
     "output_type": "execute_result"
    }
   ],
   "source": [
    "df_criminal"
   ]
  },
  {
   "cell_type": "code",
   "execution_count": 7,
   "metadata": {},
   "outputs": [
    {
     "data": {
      "text/plain": [
       "\"CRL.A. No..2325of 2009 @ SLP(CRL.) No. 7359 of 2009\\n                                                          1\\n\\n\\n\\n\\n                                   IN THE SUPREME COURT OF INDIA\\n\\n                                  CRIMINAL APPELLATE JURISDICTION\\n\\n                             CRIMINAL APPEAL NO. 2325 OF 2009\\n                       [arising out of SLP(CRL.) No. 7359 of 2009]\\n\\n\\n\\nSAIYED SALIM SAIYED HUSSAIN SAIYED                                .....             APPELLANT\\n\\n\\n\\n                                                       VERSUS\\n\\nSTATE OF GUJARAT                                                  .....             RESPONDENT\\n\\n\\n\\n\\n                                                      O R D E R\\n\\n\\n        1.         Application             seeking        exemption       from    filing\\n\\n        official translation is allowed.\\n\\n        2.         Leave granted.\\n\\n        3.         The      appellant          stands     convicted       for    offences\\n\\n        punishable under Section 8C read with Sections 21 and\\n\\n        29 of the Narcotic Drugs and Psychotropic Substances\\n\\n        Act, 1985, for being in possession of 252 grams of\\n\\n        charas.          The trial court on a consideration of the\\n\\n        evidence         convicted          and       sentenced    the    appellant   to\\n\\n        undergo 10 years rigorous imprisonment and Rs. 1 lakh\\n\\n        as fine and in default of payment of fine to undergo a\\n\\x0cCRL.A. No..2325of 2009 @ SLP(CRL.) No. 7359 of 2009\\n                                                         2\\n\\n\\n\\n        further period of one year's                         imprisonment.        The High\\n\\n        Court has confirmed the conviction and sentence.\\n\\n        4.         In this matter, we notice that the appellant has\\n\\n        already undergone almost 9 ½ years of the sentence.                               We\\n\\n        also notice that he is being represented by a counsel\\n\\n        appointed by the Supreme Court Legal Services Committee\\n\\n        and is apparently unable to pay the fine of Rs. 1 lakh.\\n\\n        5.         The learned counsel for the State of Gujarat has\\n\\n        put in appearance and we have heard the learned counsel\\n\\n        for the parties.\\n\\n        6.         Keeping in view the facts aforesaid, we direct\\n\\n        that the fine imposed on the appellant be reduced to\\n\\n        Rs.     1,000/-        and     in    default     of    payment   of       fine   the\\n\\n        appellant         shall       undergo         imprisonment    for     a    further\\n\\n        period of one month.\\n\\n        7.         The appeal is allowed to the above extent.\\n\\n\\n\\n\\n                                                                  ..................J\\n                                                                  [HARJIT SINGH BEDI]\\n\\n\\n\\n\\n                                                                  ..................J\\n                                                                  [J.M. PANCHAL]\\n\\n        NEW DELHI\\n        DECEMBER 04, 2009.\\n\\x0cCRL.A. No..2325of 2009 @ SLP(CRL.) No. 7359 of 2009\\n                                                      3\\n\\x0c\""
      ]
     },
     "execution_count": 7,
     "metadata": {},
     "output_type": "execute_result"
    }
   ],
   "source": [
    "df_criminal.iloc[0, 1]"
   ]
  },
  {
   "cell_type": "code",
   "execution_count": 20,
   "metadata": {},
   "outputs": [
    {
     "data": {
      "text/plain": [
       "1786"
      ]
     },
     "execution_count": 20,
     "metadata": {},
     "output_type": "execute_result"
    }
   ],
   "source": [
    "re.sub(r\"\\s+\", \" \", df_criminal.iloc[0, 1]).strip()"
   ]
  },
  {
   "cell_type": "code",
   "execution_count": 8,
   "metadata": {},
   "outputs": [],
   "source": [
    "df_criminal[\"lth\"] = df_criminal[\"text\"].apply(\n",
    "    lambda x: len(re.sub(r\"\\s+\", \" \", x).strip())\n",
    ")"
   ]
  },
  {
   "cell_type": "code",
   "execution_count": 9,
   "metadata": {},
   "outputs": [
    {
     "data": {
      "text/plain": [
       "(923, 4)"
      ]
     },
     "execution_count": 9,
     "metadata": {},
     "output_type": "execute_result"
    }
   ],
   "source": [
    "df_criminal[df_criminal[\"lth\"] <= 5000].shape"
   ]
  },
  {
   "cell_type": "code",
   "execution_count": 10,
   "metadata": {},
   "outputs": [],
   "source": [
    "df_criminal_five_k = df_criminal[df_criminal[\"lth\"] <= 5000].reset_index(\n",
    "    drop=True\n",
    ")"
   ]
  },
  {
   "cell_type": "code",
   "execution_count": 11,
   "metadata": {},
   "outputs": [
    {
     "data": {
      "text/html": [
       "<div>\n",
       "<style scoped>\n",
       "    .dataframe tbody tr th:only-of-type {\n",
       "        vertical-align: middle;\n",
       "    }\n",
       "\n",
       "    .dataframe tbody tr th {\n",
       "        vertical-align: top;\n",
       "    }\n",
       "\n",
       "    .dataframe thead th {\n",
       "        text-align: right;\n",
       "    }\n",
       "</style>\n",
       "<table border=\"1\" class=\"dataframe\">\n",
       "  <thead>\n",
       "    <tr style=\"text-align: right;\">\n",
       "      <th></th>\n",
       "      <th>file-name</th>\n",
       "      <th>text</th>\n",
       "      <th>tag</th>\n",
       "      <th>lth</th>\n",
       "    </tr>\n",
       "  </thead>\n",
       "  <tbody>\n",
       "    <tr>\n",
       "      <th>71</th>\n",
       "      <td>37121.txt</td>\n",
       "      <td>IN THE SUPREME COUR...</td>\n",
       "      <td>NaN</td>\n",
       "      <td>1098</td>\n",
       "    </tr>\n",
       "    <tr>\n",
       "      <th>72</th>\n",
       "      <td>37124.txt</td>\n",
       "      <td>IN THE SUPREME COUR...</td>\n",
       "      <td>NaN</td>\n",
       "      <td>1310</td>\n",
       "    </tr>\n",
       "    <tr>\n",
       "      <th>73</th>\n",
       "      <td>34967.txt</td>\n",
       "      <td>IN THE SUPREME COURT...</td>\n",
       "      <td>NaN</td>\n",
       "      <td>3107</td>\n",
       "    </tr>\n",
       "    <tr>\n",
       "      <th>74</th>\n",
       "      <td>38107.txt</td>\n",
       "      <td>IN THE SUPREME COURT OF IND...</td>\n",
       "      <td>NaN</td>\n",
       "      <td>1052</td>\n",
       "    </tr>\n",
       "    <tr>\n",
       "      <th>75</th>\n",
       "      <td>37155.txt</td>\n",
       "      <td>...</td>\n",
       "      <td>NaN</td>\n",
       "      <td>4966</td>\n",
       "    </tr>\n",
       "    <tr>\n",
       "      <th>76</th>\n",
       "      <td>32569.txt</td>\n",
       "      <td>IN THE SUPREME COURT OF ...</td>\n",
       "      <td>NaN</td>\n",
       "      <td>2709</td>\n",
       "    </tr>\n",
       "    <tr>\n",
       "      <th>77</th>\n",
       "      <td>44556.txt</td>\n",
       "      <td>1\\n\\n        ...</td>\n",
       "      <td>NaN</td>\n",
       "      <td>1319</td>\n",
       "    </tr>\n",
       "    <tr>\n",
       "      <th>78</th>\n",
       "      <td>34843.txt</td>\n",
       "      <td>IN THE SUPREME COURT OF INDIA\\...</td>\n",
       "      <td>NaN</td>\n",
       "      <td>4713</td>\n",
       "    </tr>\n",
       "    <tr>\n",
       "      <th>79</th>\n",
       "      <td>4288_2018_Judgement_16-Nov-2018.txt</td>\n",
       "      <td>...</td>\n",
       "      <td>NaN</td>\n",
       "      <td>2357</td>\n",
       "    </tr>\n",
       "  </tbody>\n",
       "</table>\n",
       "</div>"
      ],
      "text/plain": [
       "                              file-name  \\\n",
       "71                            37121.txt   \n",
       "72                            37124.txt   \n",
       "73                            34967.txt   \n",
       "74                            38107.txt   \n",
       "75                            37155.txt   \n",
       "76                            32569.txt   \n",
       "77                            44556.txt   \n",
       "78                            34843.txt   \n",
       "79  4288_2018_Judgement_16-Nov-2018.txt   \n",
       "\n",
       "                                                 text  tag   lth  \n",
       "71                             IN THE SUPREME COUR...  NaN  1098  \n",
       "72                             IN THE SUPREME COUR...  NaN  1310  \n",
       "73                            IN THE SUPREME COURT...  NaN  3107  \n",
       "74                     IN THE SUPREME COURT OF IND...  NaN  1052  \n",
       "75                                                ...  NaN  4966  \n",
       "76                        IN THE SUPREME COURT OF ...  NaN  2709  \n",
       "77                                   1\\n\\n        ...  NaN  1319  \n",
       "78                  IN THE SUPREME COURT OF INDIA\\...  NaN  4713  \n",
       "79                                                ...  NaN  2357  "
      ]
     },
     "execution_count": 11,
     "metadata": {},
     "output_type": "execute_result"
    }
   ],
   "source": [
    "df_criminal_five_k.iloc[71:80]"
   ]
  },
  {
   "cell_type": "code",
   "execution_count": 12,
   "metadata": {},
   "outputs": [
    {
     "data": {
      "text/plain": [
       "'IN THE SUPREME COURT OF INDIA CRIMINAL APPELLATE JURISDICTION CRIMINAL APPEAL NO. 1497 OF 2008 [Arising out of SLP(Crl) 4802 of 2007] PRITAM SINGH SIDHU .......APPELLANT(S) Versus STATE OF PUNJAB & ANR. .....RESPONDENT(S) ORDER Leave granted. Heard learned counsel for the parties. 2. The second respondent is the wife of one Gurjant Singh. The appellant is the brother-in-law of the said Gurjant Singh. The second respondent filed a complaint under Section 406 and 498A of IPC in the Court of Sub Divisional Judicial Magistrate, Abohar against her husband (A1), father-in-law (A2), mother-in-law (A3), sister-in-law (A4) and the husband of the sister-in-law (A5) who is the appellant herein. The only reference to accused No.5 (appellant) in the said complaint reads thus: “One T.V., one fridge, one washing machine were handed over to the accused No.5 who is the brother-in-law of the complainant as a trust property.” In the pre-summons statement recorded by the learned Magistrate, there is no reference to appellant. Learned Magistrate by order dated 26.4.2004 dismissed the complaint ........2. -2- against A-4 and ordered summons to A-1, A-2, A-3 and A-5. Feeling aggrieved, the said four accused filed a petition under Section 482 before the High Court. However, subsequently, A-1, A-2 and A-3 did not press the said petition and the petition was rejected insofar as the said accused. Thus the petition under Section 482 Cr.P.C. that came up for consideration before the learned single Judge of the High Court was only by A5 - appellant herein. Learned single Judge by order dated 10.5.2007 dismissed the petition by the following order: “The effort of re-conciliation has failed. Though the wife is willing to join the company of the petitioner, but he is adamant. In my view, no ground for quashing is made out. Dismissed.” We find that the High Court has totally misdirected itself and proceeded on the erroneous assumption that the petitioner before it was the husband of the complainant and that he had refused to take his wife back though she was willing to join him. But the petitioner in Section 482 petition was not the husband, but his brother-in-law. This has led to a wrong order being passed. 3. We have examined the entire complaint and the statement .........3. -3- given by the complainant. There is no reference to the appellant that will link him in regard to any offence under Sections 406 or 498A IPC. 4. We, therefore, allow this petition, set aside the order of the High Court and quash the proceedings insofar as appellant (A5) is concerned. ...........................J. ( R.V. RAVEENDRAN ) New Delhi; ...........................J. September 19, 2008. ( LOKESHWAR SINGH PANTA )'"
      ]
     },
     "execution_count": 12,
     "metadata": {},
     "output_type": "execute_result"
    }
   ],
   "source": [
    "re.sub(r\"\\s+\", \" \", df_criminal_five_k.iloc[76, 1]).strip()"
   ]
  },
  {
   "cell_type": "code",
   "execution_count": 22,
   "metadata": {},
   "outputs": [
    {
     "data": {
      "text/plain": [
       "Int64Index([578], dtype='int64')"
      ]
     },
     "execution_count": 22,
     "metadata": {},
     "output_type": "execute_result"
    }
   ],
   "source": [
    "df_criminal_five_k[df_criminal_five_k['file-name']=='38547.txt'].index"
   ]
  },
  {
   "cell_type": "code",
   "execution_count": 34,
   "metadata": {},
   "outputs": [],
   "source": [
    "add_names=[]\n",
    "import requests"
   ]
  },
  {
   "cell_type": "code",
   "execution_count": null,
   "metadata": {},
   "outputs": [],
   "source": []
  },
  {
   "cell_type": "code",
   "execution_count": 37,
   "metadata": {},
   "outputs": [],
   "source": [
    "def upload_files():\n",
    "    files_list = []\n",
    "    for i in range(0, 50):\n",
    "        file = random.randint(0, 9) + 81 + (i * 10)\n",
    "        file_name = df_criminal_five_k.iloc[file, 0]\n",
    "        add_names.append(file_name)\n",
    "        with open('./temp-files/'+file_name, 'w') as f:\n",
    "            f.write('\"')\n",
    "            f.write(re.sub(r\"\\s+\", \" \", df_criminal_five_k.iloc[file, 1]).strip())\n",
    "            f.write('\"')\n",
    "        tagtogAPIUrl = \"https://www.tagtog.net/-api/documents/v1\"\n",
    "        auth = requests.auth.HTTPBasicAuth(username='dev-sb', password='De4Pp@6QBjKMUGe')\n",
    "        params = {'project':'cases-annotation', 'owner': 'dev-sb', 'output':'ann.json','folder':'sb'}\n",
    "        #you can append more files to the list in case you want to upload multiple files\n",
    "        files = [(file_name, open('temp-files/'+file_name))]\n",
    "        response = requests.post(tagtogAPIUrl, params=params, auth=auth, files=files)\n",
    "        print(response.text)"
   ]
  },
  {
   "cell_type": "code",
   "execution_count": 36,
   "metadata": {},
   "outputs": [
    {
     "name": "stdout",
     "output_type": "stream",
     "text": [
      "{\"annotatable\":{\"parts\":[\"s1p1\"]},\"anncomplete\":false,\"sources\":[],\"metas\":{},\"entities\":[],\"relations\":[]}\n",
      "{\"annotatable\":{\"parts\":[\"s1p1\"]},\"anncomplete\":false,\"sources\":[],\"metas\":{},\"entities\":[],\"relations\":[]}\n",
      "{\"annotatable\":{\"parts\":[\"s1p1\"]},\"anncomplete\":false,\"sources\":[],\"metas\":{},\"entities\":[],\"relations\":[]}\n",
      "{\"annotatable\":{\"parts\":[\"s1p1\"]},\"anncomplete\":false,\"sources\":[],\"metas\":{},\"entities\":[],\"relations\":[]}\n",
      "{\"annotatable\":{\"parts\":[\"s1p1\"]},\"anncomplete\":false,\"sources\":[],\"metas\":{},\"entities\":[],\"relations\":[]}\n",
      "{\"annotatable\":{\"parts\":[\"s1p1\"]},\"anncomplete\":false,\"sources\":[],\"metas\":{},\"entities\":[],\"relations\":[]}\n",
      "{\"annotatable\":{\"parts\":[\"s1p1\"]},\"anncomplete\":false,\"sources\":[],\"metas\":{},\"entities\":[],\"relations\":[]}\n",
      "{\"annotatable\":{\"parts\":[\"s1p1\"]},\"anncomplete\":false,\"sources\":[],\"metas\":{},\"entities\":[],\"relations\":[]}\n",
      "{\"annotatable\":{\"parts\":[\"s1p1\"]},\"anncomplete\":false,\"sources\":[],\"metas\":{},\"entities\":[],\"relations\":[]}\n",
      "{\"annotatable\":{\"parts\":[\"s1p1\"]},\"anncomplete\":false,\"sources\":[],\"metas\":{},\"entities\":[],\"relations\":[]}\n"
     ]
    }
   ],
   "source": [
    "upload_files()"
   ]
  },
  {
   "cell_type": "code",
   "execution_count": 16,
   "metadata": {},
   "outputs": [
    {
     "data": {
      "text/plain": [
       "['37525.txt',\n",
       " '34940.txt',\n",
       " '32973.txt',\n",
       " '36737.txt',\n",
       " '37469.txt',\n",
       " '40596.txt',\n",
       " '43496.txt',\n",
       " '11363_2017_Judgement_10-Oct-2018.txt',\n",
       " '38302.txt',\n",
       " '36797.txt',\n",
       " '31636.txt',\n",
       " '38100.txt',\n",
       " '34569.txt',\n",
       " '38860.txt',\n",
       " '33044.txt',\n",
       " '33628.txt',\n",
       " '34744.txt',\n",
       " '38830.txt',\n",
       " '19878_2017_Judgement_23-Jul-2018.txt',\n",
       " '36793.txt',\n",
       " '34949.txt',\n",
       " '40313.txt',\n",
       " '38574.txt',\n",
       " '36805.txt',\n",
       " '36660.txt',\n",
       " '38621.txt',\n",
       " '21569_2019_4_24_14619_Judgement_21-Jun-2019.txt',\n",
       " '39015.txt',\n",
       " '38113.txt',\n",
       " '41158.txt',\n",
       " '35785.txt',\n",
       " '40004.txt',\n",
       " '39749.txt',\n",
       " '37329.txt',\n",
       " '40060.txt',\n",
       " '33746.txt',\n",
       " '34082.txt',\n",
       " '37545.txt',\n",
       " '34287.txt',\n",
       " '17606_2018_Judgement_19-Nov-2018.txt',\n",
       " '37901.txt',\n",
       " '31688.txt',\n",
       " '37134.txt',\n",
       " '30537.txt',\n",
       " '34343.txt',\n",
       " '34881.txt',\n",
       " '38581.txt',\n",
       " '37708.txt',\n",
       " '30572.txt',\n",
       " '38547.txt']"
      ]
     },
     "execution_count": 16,
     "metadata": {},
     "output_type": "execute_result"
    }
   ],
   "source": [
    "add_names"
   ]
  },
  {
   "cell_type": "code",
   "execution_count": null,
   "metadata": {},
   "outputs": [],
   "source": []
  }
 ],
 "metadata": {
  "kernelspec": {
   "display_name": "Python [conda env:nlp]",
   "language": "python",
   "name": "conda-env-nlp-py"
  },
  "language_info": {
   "codemirror_mode": {
    "name": "ipython",
    "version": 3
   },
   "file_extension": ".py",
   "mimetype": "text/x-python",
   "name": "python",
   "nbconvert_exporter": "python",
   "pygments_lexer": "ipython3",
   "version": "3.7.6"
  },
  "widgets": {
   "application/vnd.jupyter.widget-state+json": {
    "state": {},
    "version_major": 2,
    "version_minor": 0
   }
  }
 },
 "nbformat": 4,
 "nbformat_minor": 4
}
