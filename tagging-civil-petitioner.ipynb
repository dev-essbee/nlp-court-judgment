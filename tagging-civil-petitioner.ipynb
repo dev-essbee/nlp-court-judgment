{
 "cells": [
  {
   "cell_type": "code",
   "execution_count": 1,
   "metadata": {},
   "outputs": [
    {
     "name": "stdout",
     "output_type": "stream",
     "text": [
      "INFO: Pandarallel will run on 8 workers.\n",
      "INFO: Pandarallel will use Memory file system to transfer data between the main process and workers.\n"
     ]
    }
   ],
   "source": [
    "import pandas as pd\n",
    "import re\n",
    "import spacy\n",
    "from pandarallel import pandarallel\n",
    "from spacy.matcher import Matcher\n",
    "import numpy as np\n",
    "import pickle\n",
    "\n",
    "pandarallel.initialize(progress_bar=True)\n",
    "nlp = spacy.load(\"en_core_web_sm\")"
   ]
  },
  {
   "cell_type": "code",
   "execution_count": 2,
   "metadata": {},
   "outputs": [],
   "source": [
    "df_all = pd.read_csv(r\"../data/cases-tagging-raw.csv\")"
   ]
  },
  {
   "cell_type": "code",
   "execution_count": 3,
   "metadata": {},
   "outputs": [],
   "source": [
    "df = (\n",
    "    df_all[df_all[\"civil\"]]\n",
    "    .drop([\"civil\", \"criminal\", \"not-defined\"], axis=1)\n",
    "    .reset_index(drop=True)\n",
    ")"
   ]
  },
  {
   "cell_type": "code",
   "execution_count": 4,
   "metadata": {},
   "outputs": [],
   "source": [
    "df = df[df.iloc[:, 1].str.contains(\"PETITIONER:\")].reset_index(drop=True)"
   ]
  },
  {
   "cell_type": "code",
   "execution_count": 5,
   "metadata": {},
   "outputs": [],
   "source": [
    "df = df[df.iloc[:, 1].str.contains(\"CASE NO.:\")].reset_index(drop=True)"
   ]
  },
  {
   "cell_type": "code",
   "execution_count": 6,
   "metadata": {},
   "outputs": [],
   "source": [
    "df = df.drop([df[df[\"file-name\"] == \"18946.txt\"].index][0]).reset_index(\n",
    "    drop=True\n",
    ")"
   ]
  },
  {
   "cell_type": "code",
   "execution_count": 7,
   "metadata": {},
   "outputs": [
    {
     "data": {
      "text/plain": [
       "(1410, 3)"
      ]
     },
     "execution_count": 7,
     "metadata": {},
     "output_type": "execute_result"
    }
   ],
   "source": [
    "df.shape"
   ]
  },
  {
   "cell_type": "code",
   "execution_count": 8,
   "metadata": {},
   "outputs": [
    {
     "data": {
      "text/html": [
       "<div>\n",
       "<style scoped>\n",
       "    .dataframe tbody tr th:only-of-type {\n",
       "        vertical-align: middle;\n",
       "    }\n",
       "\n",
       "    .dataframe tbody tr th {\n",
       "        vertical-align: top;\n",
       "    }\n",
       "\n",
       "    .dataframe thead th {\n",
       "        text-align: right;\n",
       "    }\n",
       "</style>\n",
       "<table border=\"1\" class=\"dataframe\">\n",
       "  <thead>\n",
       "    <tr style=\"text-align: right;\">\n",
       "      <th></th>\n",
       "      <th>file-name</th>\n",
       "      <th>text</th>\n",
       "      <th>tag</th>\n",
       "    </tr>\n",
       "  </thead>\n",
       "  <tbody>\n",
       "    <tr>\n",
       "      <th>0</th>\n",
       "      <td>30829.txt</td>\n",
       "      <td>http://JUDIS.NIC.IN                SUPREME COU...</td>\n",
       "      <td>NaN</td>\n",
       "    </tr>\n",
       "    <tr>\n",
       "      <th>1</th>\n",
       "      <td>30541.txt</td>\n",
       "      <td>http://JUDIS.NIC.IN                SUPREME COU...</td>\n",
       "      <td>NaN</td>\n",
       "    </tr>\n",
       "    <tr>\n",
       "      <th>2</th>\n",
       "      <td>29170.txt</td>\n",
       "      <td>http://JUDIS.NIC.IN                  SUPREME C...</td>\n",
       "      <td>NaN</td>\n",
       "    </tr>\n",
       "    <tr>\n",
       "      <th>3</th>\n",
       "      <td>27555.txt</td>\n",
       "      <td>http://JUDIS.NIC.IN                 SUPREME CO...</td>\n",
       "      <td>NaN</td>\n",
       "    </tr>\n",
       "    <tr>\n",
       "      <th>4</th>\n",
       "      <td>29668.txt</td>\n",
       "      <td>http://JUDIS.NIC.IN                SUPREME COU...</td>\n",
       "      <td>NaN</td>\n",
       "    </tr>\n",
       "  </tbody>\n",
       "</table>\n",
       "</div>"
      ],
      "text/plain": [
       "   file-name                                               text  tag\n",
       "0  30829.txt  http://JUDIS.NIC.IN                SUPREME COU...  NaN\n",
       "1  30541.txt  http://JUDIS.NIC.IN                SUPREME COU...  NaN\n",
       "2  29170.txt  http://JUDIS.NIC.IN                  SUPREME C...  NaN\n",
       "3  27555.txt  http://JUDIS.NIC.IN                 SUPREME CO...  NaN\n",
       "4  29668.txt  http://JUDIS.NIC.IN                SUPREME COU...  NaN"
      ]
     },
     "execution_count": 8,
     "metadata": {},
     "output_type": "execute_result"
    }
   ],
   "source": [
    "df.head()"
   ]
  },
  {
   "cell_type": "code",
   "execution_count": 9,
   "metadata": {},
   "outputs": [],
   "source": [
    "def clean_text(row):\n",
    "    text = row[\"text\"]\n",
    "    #     text = re.sub(r\"\\.\", \"\", row[\"text\"])\n",
    "    return re.sub(r\"\\s+\", \" \", text).strip()"
   ]
  },
  {
   "cell_type": "code",
   "execution_count": 10,
   "metadata": {},
   "outputs": [
    {
     "data": {
      "application/vnd.jupyter.widget-view+json": {
       "model_id": "6dd8da1069b54e4d9f40fd63800620bf",
       "version_major": 2,
       "version_minor": 0
      },
      "text/plain": [
       "VBox(children=(HBox(children=(IntProgress(value=0, description='0.00%', max=177), Label(value='0 / 177'))), HB…"
      ]
     },
     "metadata": {},
     "output_type": "display_data"
    },
    {
     "name": "stdout",
     "output_type": "stream",
     "text": [
      "CPU times: user 380 ms, sys: 309 ms, total: 689 ms\n",
      "Wall time: 1.1 s\n"
     ]
    }
   ],
   "source": [
    "%time df['clean-text']=df.parallel_apply(clean_text,axis=1)"
   ]
  },
  {
   "cell_type": "code",
   "execution_count": 11,
   "metadata": {},
   "outputs": [],
   "source": [
    "appellant_regex = [\n",
    "    r\"petitioner:\\v*([\\W\\S]*?)(respondent:|Vs.)\",\n",
    "]\n",
    "respondent_regex = [\n",
    "    r\"respondent:\\v*([\\W\\S]*?)date of judgment:*\\v*\\s*[0-9]\",\n",
    "]\n",
    "date_of_judgement_regex = [r\"date of judgment:*\\v*([\\W\\S]*?)(.*):\"]\n",
    "bench_regex = [r\"bench:\\v*([\\W\\S]*?)(.*):\"]\n",
    "case_no_regex = [r\"case no.:(.*?)petitioner:|judgment:\"]"
   ]
  },
  {
   "cell_type": "code",
   "execution_count": 12,
   "metadata": {},
   "outputs": [],
   "source": [
    "not_found_files = []"
   ]
  },
  {
   "cell_type": "code",
   "execution_count": 13,
   "metadata": {},
   "outputs": [],
   "source": [
    "def tags(row):\n",
    "    text = row[\"text\"]\n",
    "    appellant = re.findall(\n",
    "        appellant_regex[0], text, re.MULTILINE | re.IGNORECASE\n",
    "    )\n",
    "    respondent = re.findall(\n",
    "        respondent_regex[0], text, re.MULTILINE | re.IGNORECASE\n",
    "    )\n",
    "    date = re.findall(\n",
    "        date_of_judgement_regex[0], text, re.MULTILINE | re.IGNORECASE\n",
    "    )\n",
    "    bench = re.findall(bench_regex[0], text, re.MULTILINE | re.IGNORECASE)\n",
    "    case_no = re.findall(\n",
    "        case_no_regex[0], row[\"clean-text\"], re.MULTILINE | re.IGNORECASE\n",
    "    )\n",
    "    #     print(appellant, respondent, date, bench)\n",
    "    #     print(case_no[0])\n",
    "    if (\n",
    "        len(appellant) == 0\n",
    "        or len(respondent) == 0\n",
    "        or len(date) == 0\n",
    "        or len(bench) == 0\n",
    "        or len(case_no) == 0\n",
    "    ):\n",
    "        not_found_files.append(row[\"file-name\"])\n",
    "        return np.NaN\n",
    "    elif (\n",
    "        len(appellant[0][0].strip()) == 0\n",
    "        or len(respondent[0].strip()) == 0\n",
    "        or len(date[0][0].strip()) == 0\n",
    "        or len(bench[0][0].strip()) == 0\n",
    "        or len(case_no[0].strip()) == 0\n",
    "    ):\n",
    "        not_found_files.append(row[\"file-name\"])\n",
    "        return np.NaN\n",
    "    else:\n",
    "        #         print(appellant[0],respondent,date,bench)\n",
    "        return [\n",
    "            appellant[0][0].strip(),\n",
    "            respondent[0].strip(),\n",
    "            date[0][0].strip(),\n",
    "            bench[0][0].strip(),\n",
    "            case_no[0].strip(),\n",
    "        ]"
   ]
  },
  {
   "cell_type": "code",
   "execution_count": 14,
   "metadata": {},
   "outputs": [],
   "source": [
    "df[\"tag\"] = df.apply(tags, axis=1)"
   ]
  },
  {
   "cell_type": "code",
   "execution_count": 15,
   "metadata": {},
   "outputs": [
    {
     "data": {
      "text/plain": [
       "0"
      ]
     },
     "execution_count": 15,
     "metadata": {},
     "output_type": "execute_result"
    }
   ],
   "source": [
    "len(not_found_files)"
   ]
  },
  {
   "cell_type": "code",
   "execution_count": 16,
   "metadata": {},
   "outputs": [],
   "source": [
    "not_found_files = []"
   ]
  },
  {
   "cell_type": "code",
   "execution_count": 17,
   "metadata": {},
   "outputs": [
    {
     "data": {
      "text/plain": [
       "['M/S TEXMACO LTD. CEMENT DIVISION',\n",
       " 'A.S. NARASIMHAM',\n",
       " '07/03/2008',\n",
       " 'ALTAMAS KABIR & J.M. PANCHAL',\n",
       " 'Appeal (civil) 1815 of 2008']"
      ]
     },
     "execution_count": 17,
     "metadata": {},
     "output_type": "execute_result"
    }
   ],
   "source": [
    "df.iloc[0, 2]"
   ]
  },
  {
   "cell_type": "code",
   "execution_count": 18,
   "metadata": {},
   "outputs": [],
   "source": [
    "df[\"text\"] = df[\"clean-text\"]\n",
    "df = df.drop([\"clean-text\"], axis=1)"
   ]
  },
  {
   "cell_type": "code",
   "execution_count": 19,
   "metadata": {},
   "outputs": [],
   "source": [
    "def get_ent_pos(start, end):\n",
    "    loc = []\n",
    "    fir_v = start[0]\n",
    "    end_v = end[0]\n",
    "    for (i, j) in zip(start[1:], end[1:]):\n",
    "        if i == end_v:\n",
    "            end_v = j\n",
    "        else:\n",
    "            loc.append([fir_v, end_v])\n",
    "            fir_v = i\n",
    "            end_v = j\n",
    "    return loc"
   ]
  },
  {
   "cell_type": "code",
   "execution_count": 20,
   "metadata": {},
   "outputs": [],
   "source": [
    "def tags_spacy_matcher(row, matcher, pattern, TYPE_V):\n",
    "    res = []\n",
    "    with nlp.disable_pipes(\"tagger\", \"parser\"):\n",
    "        doc = nlp(row[\"text\"])\n",
    "        matches = matcher(doc)\n",
    "        start = 0\n",
    "        end = 0\n",
    "        pos_s = []\n",
    "        pos_e = []\n",
    "        for m_id, start, end in matches:\n",
    "            pos_s.append(start)\n",
    "            pos_e.append(end)\n",
    "        loc = get_ent_pos(pos_s, pos_e)\n",
    "        for i, j in loc:\n",
    "            pos = row[\"text\"].find(doc[i:j].text)\n",
    "            if pos == -1:\n",
    "                not_found_files.append(row[\"file-name\"])\n",
    "                return np.NaN\n",
    "            res.append((pos, pos + len(doc[i:j].text), TYPE_V))\n",
    "    return res"
   ]
  },
  {
   "cell_type": "code",
   "execution_count": 21,
   "metadata": {},
   "outputs": [],
   "source": [
    "def matcher_tags(row):\n",
    "    matcher = Matcher(nlp.vocab)\n",
    "    pattern = [{\"ENT_TYPE\": \"DATE\"}]\n",
    "    matcher.add(\"DATE_PATTERN\", None, pattern)\n",
    "    return tags_spacy_matcher(row, matcher, pattern, \"DATE\")"
   ]
  },
  {
   "cell_type": "code",
   "execution_count": 22,
   "metadata": {
    "scrolled": true
   },
   "outputs": [],
   "source": [
    "def find_pos(row, index, tag):\n",
    "    value = re.sub(r\"\\s+\", \" \", row[\"tag\"][index]).strip()\n",
    "    pos = row[\"text\"].find(value)\n",
    "    if pos == -1:\n",
    "        not_found_files.append(row[\"file-name\"])\n",
    "        return np.NaN\n",
    "    return (pos, pos + len(row[\"tag\"][index]), tag)"
   ]
  },
  {
   "cell_type": "code",
   "execution_count": 23,
   "metadata": {},
   "outputs": [],
   "source": [
    "def replace_val_pos(row):\n",
    "    res = [\n",
    "        find_pos(row, 0, \"PETITIONER\"),\n",
    "        find_pos(row, 1, \"RESPONDENT\"),\n",
    "        find_pos(row, 2, \"JUDGEMENT_DATE\"),\n",
    "        find_pos(row, 3, \"JUDGES_BENCH\"),\n",
    "    ]\n",
    "    res.extend(matcher_tags(row))\n",
    "    return res"
   ]
  },
  {
   "cell_type": "code",
   "execution_count": 24,
   "metadata": {},
   "outputs": [
    {
     "data": {
      "application/vnd.jupyter.widget-view+json": {
       "model_id": "4181fc99a5ed4f609b03ba966453dfeb",
       "version_major": 2,
       "version_minor": 0
      },
      "text/plain": [
       "VBox(children=(HBox(children=(IntProgress(value=0, description='0.00%', max=177), Label(value='0 / 177'))), HB…"
      ]
     },
     "metadata": {},
     "output_type": "display_data"
    }
   ],
   "source": [
    "df[\"tag\"] = df.parallel_apply(replace_val_pos, axis=1)"
   ]
  },
  {
   "cell_type": "code",
   "execution_count": null,
   "metadata": {},
   "outputs": [],
   "source": [
    "def remove_duplicates_overlaps(rows):\n",
    "    tags_list = set(rows[\"tag\"])\n",
    "\n",
    "    return tags_list"
   ]
  },
  {
   "cell_type": "code",
   "execution_count": 31,
   "metadata": {},
   "outputs": [
    {
     "data": {
      "text/plain": [
       "{(88, 92, 'DATE'),\n",
       " (105, 147, 'PETITIONER'),\n",
       " (160, 198, 'RESPONDENT'),\n",
       " (217, 227, 'DATE'),\n",
       " (217, 227, 'JUDGEMENT_DATE'),\n",
       " (235, 269, 'JUDGES_BENCH'),\n",
       " (354, 366, 'DATE'),\n",
       " (753, 757, 'DATE'),\n",
       " (1012, 1032, 'DATE'),\n",
       " (1024, 1032, 'DATE'),\n",
       " (1083, 1092, 'DATE'),\n",
       " (1116, 1130, 'DATE'),\n",
       " (1135, 1144, 'DATE'),\n",
       " (1270, 1290, 'DATE'),\n",
       " (1282, 1290, 'DATE'),\n",
       " (1455, 1459, 'DATE'),\n",
       " (1618, 1636, 'DATE'),\n",
       " (1641, 1659, 'DATE'),\n",
       " (1859, 1863, 'DATE'),\n",
       " (4038, 4051, 'DATE'),\n",
       " (4402, 4415, 'DATE'),\n",
       " (4726, 4730, 'DATE'),\n",
       " (5773, 5796, 'DATE'),\n",
       " (5847, 5856, 'DATE')}"
      ]
     },
     "execution_count": 31,
     "metadata": {},
     "output_type": "execute_result"
    }
   ],
   "source": [
    "set(df.iloc[2, 2])"
   ]
  },
  {
   "cell_type": "code",
   "execution_count": 28,
   "metadata": {},
   "outputs": [],
   "source": [
    "df[\"tag\"] = df[\"tag\"].apply(lambda x: {\"entities\": x})"
   ]
  },
  {
   "cell_type": "code",
   "execution_count": 29,
   "metadata": {},
   "outputs": [
    {
     "data": {
      "text/plain": [
       "0       {'entities': [(105, 137, 'PETITIONER'), (150, ...\n",
       "1       {'entities': [(105, 126, 'PETITIONER'), (139, ...\n",
       "2       {'entities': [(105, 147, 'PETITIONER'), (160, ...\n",
       "3       {'entities': [(105, 137, 'PETITIONER'), (150, ...\n",
       "4       {'entities': [(105, 127, 'PETITIONER'), (140, ...\n",
       "                              ...                        \n",
       "1405    {'entities': [(106, 118, 'PETITIONER'), (131, ...\n",
       "1406    {'entities': [(105, 131, 'PETITIONER'), (144, ...\n",
       "1407    {'entities': [(106, 142, 'PETITIONER'), (155, ...\n",
       "1408    {'entities': [(105, 118, 'PETITIONER'), (131, ...\n",
       "1409    {'entities': [(104, 125, 'PETITIONER'), (138, ...\n",
       "Name: tag, Length: 1410, dtype: object"
      ]
     },
     "execution_count": 29,
     "metadata": {},
     "output_type": "execute_result"
    }
   ],
   "source": [
    "df[\"tag\"]"
   ]
  },
  {
   "cell_type": "code",
   "execution_count": 28,
   "metadata": {},
   "outputs": [],
   "source": [
    "df.to_csv(r\"../data/processed/cases-tag-civil-petitioner.csv\", index=False)"
   ]
  },
  {
   "cell_type": "code",
   "execution_count": 30,
   "metadata": {},
   "outputs": [],
   "source": [
    "with open(\"cases-tagged\", \"wb\") as pic_f:\n",
    "    pickle.dump(df, pic_f)"
   ]
  },
  {
   "cell_type": "code",
   "execution_count": 31,
   "metadata": {},
   "outputs": [],
   "source": [
    "with open(\"cases-tagged\", \"rb\") as pic_r:\n",
    "    df = pickle.load(pic_r)"
   ]
  },
  {
   "cell_type": "code",
   "execution_count": null,
   "metadata": {},
   "outputs": [],
   "source": []
  }
 ],
 "metadata": {
  "kernelspec": {
   "display_name": "Python [conda env:nlp]",
   "language": "python",
   "name": "conda-env-nlp-py"
  },
  "language_info": {
   "codemirror_mode": {
    "name": "ipython",
    "version": 3
   },
   "file_extension": ".py",
   "mimetype": "text/x-python",
   "name": "python",
   "nbconvert_exporter": "python",
   "pygments_lexer": "ipython3",
   "version": "3.7.6"
  },
  "widgets": {
   "application/vnd.jupyter.widget-state+json": {
    "state": {},
    "version_major": 2,
    "version_minor": 0
   }
  }
 },
 "nbformat": 4,
 "nbformat_minor": 4
}
