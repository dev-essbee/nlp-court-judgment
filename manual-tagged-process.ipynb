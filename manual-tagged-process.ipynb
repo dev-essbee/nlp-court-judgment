{
 "cells": [
  {
   "cell_type": "code",
   "execution_count": 43,
   "metadata": {},
   "outputs": [
    {
     "name": "stdout",
     "output_type": "stream",
     "text": [
      "INFO: Pandarallel will run on 8 workers.\n",
      "INFO: Pandarallel will use Memory file system to transfer data between the main process and workers.\n"
     ]
    }
   ],
   "source": [
    "import pandas as pd\n",
    "import re\n",
    "import spacy\n",
    "from pandarallel import pandarallel\n",
    "import numpy as np\n",
    "import pickle\n",
    "import json\n",
    "import glob\n",
    "\n",
    "pandarallel.initialize(progress_bar=True)\n",
    "nlp = spacy.load(\"en_core_web_sm\")"
   ]
  },
  {
   "cell_type": "code",
   "execution_count": 44,
   "metadata": {},
   "outputs": [],
   "source": [
    "with open(\"./get-case-type/cases-criminal\", \"rb\") as pic_r:\n",
    "    df_criminal = pickle.load(pic_r)"
   ]
  },
  {
   "cell_type": "code",
   "execution_count": 45,
   "metadata": {},
   "outputs": [],
   "source": [
    "cases_title = [\n",
    "    \"37482.txt\",\n",
    "    \"39583.txt\",\n",
    "    \"32672.txt\",\n",
    "    \"43181.txt\",\n",
    "    \"36965.txt\",\n",
    "    \"38633.txt\",\n",
    "    \"40816.txt\",\n",
    "    \"33555.txt\",\n",
    "    \"33314.txt\",\n",
    "    \"38645.txt\",\n",
    "    \"32569.txt\",\n",
    "    \"37525.txt\",\n",
    "    \"34940.txt\",\n",
    "    \"32973.txt\",\n",
    "    \"36737.txt\",\n",
    "    \"37469.txt\",\n",
    "    \"40596.txt\",\n",
    "    \"43496.txt\",\n",
    "    \"11363_2017_Judgement_10-Oct-2018.txt\",\n",
    "    \"38302.txt\",\n",
    "    \"36797.txt\",\n",
    "    \"31636.txt\",\n",
    "    \"38100.txt\",\n",
    "    \"34569.txt\",\n",
    "    \"38860.txt\",\n",
    "    \"33044.txt\",\n",
    "    \"33628.txt\",\n",
    "    \"34744.txt\",\n",
    "    \"38830.txt\",\n",
    "    \"19878_2017_Judgement_23-Jul-2018.txt\",\n",
    "    \"36793.txt\",\n",
    "    \"34949.txt\",\n",
    "    \"40313.txt\",\n",
    "    \"38574.txt\",\n",
    "    \"36805.txt\",\n",
    "    \"36660.txt\",\n",
    "    \"38621.txt\",\n",
    "    \"21569_2019_4_24_14619_Judgement_21-Jun-2019.txt\",\n",
    "    \"39015.txt\",\n",
    "    \"38113.txt\",\n",
    "    \"41158.txt\",\n",
    "    \"35785.txt\",\n",
    "    \"40004.txt\",\n",
    "    \"39749.txt\",\n",
    "    \"37329.txt\",\n",
    "    \"40060.txt\",\n",
    "    \"33746.txt\",\n",
    "    \"34082.txt\",\n",
    "    \"37545.txt\",\n",
    "    \"34287.txt\",\n",
    "    \"17606_2018_Judgement_19-Nov-2018.txt\",\n",
    "    \"37901.txt\",\n",
    "    \"31688.txt\",\n",
    "    \"37134.txt\",\n",
    "    \"30537.txt\",\n",
    "    \"34343.txt\",\n",
    "    \"34881.txt\",\n",
    "    \"38581.txt\",\n",
    "    \"37708.txt\",\n",
    "    \"30572.txt\",\n",
    "    \"38547.txt\",\n",
    "]"
   ]
  },
  {
   "cell_type": "code",
   "execution_count": 46,
   "metadata": {},
   "outputs": [],
   "source": [
    "df_tagged_man = df_criminal[\n",
    "    df_criminal[\"file-name\"].isin(cases_title)\n",
    "].reset_index(drop=True)\n",
    "df_tagged_man[\"text\"] = df_tagged_man[\"text\"].apply(\n",
    "    lambda x: re.sub(r\"\\s+\", \" \", x).strip()\n",
    ")"
   ]
  },
  {
   "cell_type": "code",
   "execution_count": 47,
   "metadata": {},
   "outputs": [],
   "source": [
    "entity_types = {\n",
    "    \"e_16\": \"LAW\",\n",
    "    \"e_3\": \"PETITIONER_OR_APPELLANT\",\n",
    "    \"e_27\": \"VICTIM_ALLIES\",\n",
    "    \"e_2\": \"JUDGE\",\n",
    "    \"e_30\": \"WEAPONS\",\n",
    "    \"e_12\": \"COURT\",\n",
    "    \"e_23\": \"VICTIM\",\n",
    "    \"e_31\": \"VEHICLE\",\n",
    "    \"e_18\": \"LOC_OF_JUDGMENT\",\n",
    "    \"e_29\": \"WITNESS\",\n",
    "    \"e_7\": \"ADVOCATE\",\n",
    "    \"m_14\": \"CRIMINAL\",\n",
    "    \"e_5\": \"DATE_OF_JUDGMENT\",\n",
    "    \"e_22\": \"PETITION-DETAILS\",\n",
    "    \"m_15\": \"CIVIL\",\n",
    "    \"m_20\": \"FILE-NAME\",\n",
    "    \"e_26\": \"LOC_CRIME\",\n",
    "    \"e_6\": \"CASE_NO\",\n",
    "    \"e_21\": \"POLICE\",\n",
    "    \"e_28\": \"POSTMORTEM_DOC\",\n",
    "    \"e_17\": \"JUDGMENT\",\n",
    "    \"e_9\": \"CITATION\",\n",
    "    \"e_4\": \"RESPONDENT\",\n",
    "    \"e_25\": \"DATE_AND_TIME_CRIME\",\n",
    "    \"e_24\": \"ACCUSED\",\n",
    "    \"e_13\": \"CRIME\",\n",
    "}"
   ]
  },
  {
   "cell_type": "markdown",
   "metadata": {},
   "source": [
    "### Download tags"
   ]
  },
  {
   "cell_type": "code",
   "execution_count": 2,
   "metadata": {},
   "outputs": [
    {
     "name": "stdout",
     "output_type": "stream",
     "text": [
      "downloaded: ./tags-download-tsv/a78oVORrJ1QqUulbmR7iYVTPwAVq-38581.tsv\n",
      "downloaded: ./tags-download-tsv/aUWC86pQeT3vLRge5KmONgWvKIJa-34343.tsv\n",
      "downloaded: ./tags-download-tsv/aVWIZ0f3LE8Mq1cxVOnye2e1PeS4-30572.tsv\n",
      "downloaded: ./tags-download-tsv/aTXYGtrzAAlHHVDWfHTI2KBJWEPC-38547.tsv\n",
      "downloaded: ./tags-download-tsv/aD8Ic6BpHLRpuglGgDKg4cU1hI8a-34881.tsv\n",
      "downloaded: ./tags-download-tsv/aP6eQ.DItz.8x85Rrfh.lcnxAymy-37708.tsv\n",
      "downloaded: ./tags-download-tsv/ay7ag15iBIxUv9AqzJpQ8RIlgV9S-31688.tsv\n",
      "downloaded: ./tags-download-tsv/aiXoAZs5XsKzhwt6NY5L4MfCLaj8-37134.tsv\n",
      "downloaded: ./tags-download-tsv/azJYqd9_NA5iW1aaUPma2N4szjzS-37901.tsv\n",
      "downloaded: ./tags-download-tsv/ajA3a1C9hFaueFKmdsyJBs.fxGDe-17606_2018_Judgement_19_Nov_2018.tsv\n",
      "downloaded: ./tags-download-tsv/a57jfAG1bL.DotgB5GXTDJCtwxwa-30537.tsv\n",
      "downloaded: ./tags-download-tsv/axNfmqEbge8QY9LlbzMo3NNF14xO-34287.tsv\n",
      "downloaded: ./tags-download-tsv/aD5R7Yu9jcjTuX7a4t2av4_7l9bW-37545.tsv\n",
      "downloaded: ./tags-download-tsv/a2kv6LHmrsad9wyihx935J1oQrni-37329.tsv\n",
      "downloaded: ./tags-download-tsv/aI5Ago2v7oE.csrim0P5tj.84QE8-39749.tsv\n",
      "downloaded: ./tags-download-tsv/ajo5_1r93yqDnn4reZz8DDHINhlq-36660.tsv\n",
      "downloaded: ./tags-download-tsv/asCICuJBZKqKADmMraaoFWeS5fWW-36805.tsv\n",
      "downloaded: ./tags-download-tsv/aZEPRCyUEyrojB9Gq5ABPfaszcFS-34082.tsv\n",
      "downloaded: ./tags-download-tsv/a4LOM3holjT4zHpbLyXk7TUeRoGa-33746.tsv\n",
      "downloaded: ./tags-download-tsv/aLRJutUUoGgP5.Cb0aNIZfs2VL.4-34949.tsv\n",
      "downloaded: ./tags-download-tsv/aPACq.9xqpAb71UMIm3OaVB2uqha-40313.tsv\n",
      "downloaded: ./tags-download-tsv/aItlPm97aYT05PxbGqRMPa3H10GG-38574.tsv\n",
      "downloaded: ./tags-download-tsv/aO4rN2S8LQjimTU4gnl0AXq1rL68-40060.tsv\n",
      "downloaded: ./tags-download-tsv/aQz1J3zYhaDufj5o553ly21W2aZm-40004.tsv\n",
      "downloaded: ./tags-download-tsv/a.wynHL2Aw4T8zvKoNuyTmOMHnVW-21569_2019_4_24_14619_Judgement_21_Jun_2019.tsv\n",
      "downloaded: ./tags-download-tsv/aTMnqhLBoFMcR1yugW4dq6ZP2rbG-38621.tsv\n",
      "downloaded: ./tags-download-tsv/atL_nCnOVfgqaXKS4cKzOSrY1HWC-39015.tsv\n",
      "downloaded: ./tags-download-tsv/aYAWdW2rAGu9cFttepFELGVsLa3C-35785.tsv\n",
      "downloaded: ./tags-download-tsv/au5udS5yAjSTLdaU_6JNZTHHqOD8-41158.tsv\n",
      "downloaded: ./tags-download-tsv/aGzyFaLna5csqIp95WvYkHJWHC7G-38113.tsv\n",
      "downloaded: ./tags-download-tsv/aE38Bh5L9sVwNxguWC6PXIT33Hhu-36737.tsv\n",
      "downloaded: ./tags-download-tsv/a.cOJTn_nHZ41SETMRA8YP_el6FK-43496.tsv\n",
      "downloaded: ./tags-download-tsv/a2495r8rukCCQdv9Jc2hRm8IT9b0-37469.tsv\n",
      "downloaded: ./tags-download-tsv/aoeJ9N..HmcE9UD.AuQtqHp_4PyO-36793.tsv\n",
      "downloaded: ./tags-download-tsv/aECFXEWgtCtvA79r7EyiijNFXHmK-36797.tsv\n",
      "downloaded: ./tags-download-tsv/a7nnaPOmSZ9OMcrf_z_ovlbLS_2e-40596.tsv\n",
      "downloaded: ./tags-download-tsv/aj5bKy2N6nUpx9JgzcKhTDOYo90u-text.tsv\n",
      "downloaded: ./tags-download-tsv/az74v8TwoRKO12urcaKcCuuXhw0u-text.tsv\n",
      "downloaded: ./tags-download-tsv/akfKystTPPcn2lOnTXy971bCCgfi-text.tsv\n",
      "downloaded: ./tags-download-tsv/a90k2dPjbpIBCyM5_S8O36.uF3Ca-text.tsv\n",
      "downloaded: ./tags-download-tsv/aGRm0wQpEsDW46Kwgd_6b8UyUScu-text.tsv\n",
      "downloaded: ./tags-download-tsv/aTNFHFohtwD11zpO.oC8vf.4v4ha-text.tsv\n",
      "downloaded: ./tags-download-tsv/asozt43dW9KzLjhLCM3FeeznZdX0-text.tsv\n",
      "downloaded: ./tags-download-tsv/aLs4amigTJe1EruwuGMwBM4_3i8G-text.tsv\n",
      "downloaded: ./tags-download-tsv/abfrDxmJWgKIRVityGirOetiDgNu-text.tsv\n",
      "downloaded: ./tags-download-tsv/amIrd4pboEhdHvfLguq6e0Ah1YBG-37525.tsv\n",
      "downloaded: ./tags-download-tsv/aldmfZqq1qsppDLwPdn6JL55JNMC-34940.tsv\n",
      "downloaded: ./tags-download-tsv/aCzoKkOUbE70QdbomxDQRgJpPXnm-32973.tsv\n",
      "downloaded: ./tags-download-tsv/aH42hos.0RKX0WzY0gAp8WZ_LUxy-11363_2017_Judgement_10_Oct_2018.tsv\n",
      "downloaded: ./tags-download-tsv/alklM378AeygexPe.01d32vdFh3i-38302.tsv\n",
      "downloaded: ./tags-download-tsv/aYgQ3y.b2OgTnr9BldmuAzOFE5uK-34569.tsv\n",
      "downloaded: ./tags-download-tsv/aRDp3PhhH4VhJIj0XfC1BmuYIQHa-31636.tsv\n",
      "downloaded: ./tags-download-tsv/a6_G4kU5.JjN24pH9APIxyInHBpS-text.tsv\n",
      "downloaded: ./tags-download-tsv/a8VszvVocgs3ufKmWLjL74kuVZBG-34744.tsv\n",
      "downloaded: ./tags-download-tsv/akEVFUjRd2gwaAya1MkQ67wYAonS-38860.tsv\n",
      "downloaded: ./tags-download-tsv/aAkwys_Epcbwp6kJyDUj695oGWJy-33628.tsv\n",
      "downloaded: ./tags-download-tsv/azFYkPbejKjT.6wWXx_ZDqnWW06q-38100.tsv\n",
      "downloaded: ./tags-download-tsv/aoh9qFfIKWwcgM_w672Wj9A6w_.C-33044.tsv\n",
      "downloaded: ./tags-download-tsv/azgUsU2azNWhPvHp0WrwcdJb7iuO-19878_2017_Judgement_23_Jul_2018.tsv\n",
      "downloaded: ./tags-download-tsv/auNRqokMrau0qEsKYUxAAOGt89U0-38830.tsv\n",
      "downloaded: ./tags-download-tsv/acOf77Uz9UjhnErkMiBEOC1Lrynu-text.tsv\n"
     ]
    }
   ],
   "source": [
    "!python download-tags.py download 'folder:sb' -u 'dev-sb' -w 'De4Pp@6QBjKMUGe' -p 'cases-annotation' -o 'dev-sb' --output_folder './tags-download-tsv/' -t 'entitiestsv'"
   ]
  },
  {
   "cell_type": "code",
   "execution_count": 28,
   "metadata": {},
   "outputs": [],
   "source": [
    "def get_tags(tags):\n",
    "    res = []\n",
    "    for i in tags[\"entities\"]:\n",
    "        entity_label = entity_types[i[\"classId\"]]\n",
    "        for j in i[\"offsets\"]:\n",
    "            start_v = j[\"start\"] - 1\n",
    "            end_v = len(j[\"text\"]) + start_v\n",
    "            res.append((start_v, end_v, entity_label))\n",
    "    return res"
   ]
  },
  {
   "cell_type": "code",
   "execution_count": 29,
   "metadata": {},
   "outputs": [],
   "source": [
    "def change_json_names():\n",
    "    for name in glob.glob(\"./tags-download/*\"):\n",
    "        tags = {}\n",
    "        with open(name) as f:\n",
    "            tags = json.load(f)\n",
    "        file_name = (\n",
    "            \"./tags-download-processed/\"\n",
    "            + tags[\"metas\"][\"m_20\"][\"value\"].split(\".\")[0]\n",
    "            + \".json\"\n",
    "        )\n",
    "        tags = {\"entities\": get_tags(tags)}\n",
    "        with open(file_name, \"w\") as f:\n",
    "            json.dump(tags, f)"
   ]
  },
  {
   "cell_type": "code",
   "execution_count": 30,
   "metadata": {},
   "outputs": [],
   "source": [
    "change_json_names()"
   ]
  },
  {
   "cell_type": "code",
   "execution_count": 31,
   "metadata": {},
   "outputs": [],
   "source": [
    "def update_tags(row):\n",
    "    with open(\n",
    "        \"./tags-download-processed/\" + row[\"file-name\"].split(\".\")[0] + \".json\"\n",
    "    ) as f:\n",
    "        tags = json.load(f)\n",
    "        return tags"
   ]
  },
  {
   "cell_type": "code",
   "execution_count": 32,
   "metadata": {},
   "outputs": [],
   "source": [
    "df_tagged_man[\"tag\"] = df_tagged_man.apply(update_tags, axis=1)"
   ]
  },
  {
   "cell_type": "code",
   "execution_count": 33,
   "metadata": {},
   "outputs": [
    {
     "data": {
      "text/plain": [
       "\"CRL.A. No..2325of 2009 @ SLP(CRL.) No. 7359 of 2009 1 IN THE SUPREME COURT OF INDIA CRIMINAL APPELLATE JURISDICTION CRIMINAL APPEAL NO. 2325 OF 2009 [arising out of SLP(CRL.) No. 7359 of 2009] SAIYED SALIM SAIYED HUSSAIN SAIYED ..... APPELLANT VERSUS STATE OF GUJARAT ..... RESPONDENT O R D E R 1. Application seeking exemption from filing official translation is allowed. 2. Leave granted. 3. The appellant stands convicted for offences punishable under Section 8C read with Sections 21 and 29 of the Narcotic Drugs and Psychotropic Substances Act, 1985, for being in possession of 252 grams of charas. The trial court on a consideration of the evidence convicted and sentenced the appellant to undergo 10 years rigorous imprisonment and Rs. 1 lakh as fine and in default of payment of fine to undergo a CRL.A. No..2325of 2009 @ SLP(CRL.) No. 7359 of 2009 2 further period of one year's imprisonment. The High Court has confirmed the conviction and sentence. 4. In this matter, we notice that the appellant has already undergone almost 9 ½ years of the sentence. We also notice that he is being represented by a counsel appointed by the Supreme Court Legal Services Committee and is apparently unable to pay the fine of Rs. 1 lakh. 5. The learned counsel for the State of Gujarat has put in appearance and we have heard the learned counsel for the parties. 6. Keeping in view the facts aforesaid, we direct that the fine imposed on the appellant be reduced to Rs. 1,000/- and in default of payment of fine the appellant shall undergo imprisonment for a further period of one month. 7. The appeal is allowed to the above extent. ..................J [HARJIT SINGH BEDI] ..................J [J.M. PANCHAL] NEW DELHI DECEMBER 04, 2009. CRL.A. No..2325of 2009 @ SLP(CRL.) No. 7359 of 2009 3\""
      ]
     },
     "execution_count": 33,
     "metadata": {},
     "output_type": "execute_result"
    }
   ],
   "source": [
    "df_tagged_man.iloc[0, 1]"
   ]
  },
  {
   "cell_type": "code",
   "execution_count": 39,
   "metadata": {},
   "outputs": [
    {
     "data": {
      "text/plain": [
       "{'entities': [[0, 51, 'CASE_NO'],\n",
       "  [57, 83, 'COURT'],\n",
       "  [116, 192, 'CASE_NO'],\n",
       "  [193, 227, 'PETITIONER_OR_APPELLANT'],\n",
       "  [251, 267, 'RESPONDENT'],\n",
       "  [455, 555, 'LAW'],\n",
       "  [569, 602, 'CRIME'],\n",
       "  [704, 757, 'JUDGMENT'],\n",
       "  [805, 856, 'CASE_NO'],\n",
       "  [902, 916, 'COURT'],\n",
       "  [1134, 1151, 'COURT'],\n",
       "  [1264, 1280, 'RESPONDENT'],\n",
       "  [1650, 1667, 'JUDGE'],\n",
       "  [1690, 1702, 'JUDGE'],\n",
       "  [1704, 1713, 'LOC_OF_JUDGMENT'],\n",
       "  [1714, 1731, 'DATE_OF_JUDGMENT'],\n",
       "  [1733, 1784, 'CASE_NO']]}"
      ]
     },
     "execution_count": 39,
     "metadata": {},
     "output_type": "execute_result"
    }
   ],
   "source": [
    "df_tagged_man.iloc[0, 2]"
   ]
  },
  {
   "cell_type": "code",
   "execution_count": 13,
   "metadata": {},
   "outputs": [],
   "source": [
    "with open(\n",
    "    \"../data/proc.ipynb_checkpoints/ssed/cases-tagged-man\", \"wb\"\n",
    ") as pic_f:\n",
    "    pickle.dump(df_tagged_man, pic_f)"
   ]
  },
  {
   "cell_type": "code",
   "execution_count": null,
   "metadata": {},
   "outputs": [],
   "source": []
  }
 ],
 "metadata": {
  "kernelspec": {
   "display_name": "Python [conda env:nlp]",
   "language": "python",
   "name": "conda-env-nlp-py"
  },
  "language_info": {
   "codemirror_mode": {
    "name": "ipython",
    "version": 3
   },
   "file_extension": ".py",
   "mimetype": "text/x-python",
   "name": "python",
   "nbconvert_exporter": "python",
   "pygments_lexer": "ipython3",
   "version": "3.7.6"
  },
  "widgets": {
   "application/vnd.jupyter.widget-state+json": {
    "state": {},
    "version_major": 2,
    "version_minor": 0
   }
  }
 },
 "nbformat": 4,
 "nbformat_minor": 4
}
